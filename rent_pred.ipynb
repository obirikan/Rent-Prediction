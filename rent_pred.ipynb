{
 "cells": [
  {
   "cell_type": "markdown",
   "id": "9a7ebd60",
   "metadata": {},
   "source": [
    "## Import Modules"
   ]
  },
  {
   "cell_type": "code",
   "execution_count": null,
   "id": "8b2a50ab",
   "metadata": {},
   "outputs": [],
   "source": [
    "from sklearn.linear_model import LinearRegression, Ridge, Lasso\n",
    "from sklearn.ensemble import RandomForestRegressor\n",
    "from sklearn.model_selection import KFold , cross_val_score\n",
    "from sklearn.svm import SVR\n",
    "\n",
    "import matplotlib.pyplot as plt\n",
    "import pandas as pd\n",
    "import numpy as np\n",
    "import seaborn as sns\n"
   ]
  },
  {
   "cell_type": "markdown",
   "id": "4f0b9a40",
   "metadata": {},
   "source": [
    "## Read Data"
   ]
  },
  {
   "cell_type": "code",
   "execution_count": null,
   "id": "be3661ce",
   "metadata": {},
   "outputs": [],
   "source": [
    "df = pd.read_csv(\"https://raw.githubusercontent.com/sonnynomnom/Codecademy-Machine-Learning-Fundamentals/master/StreetEasy/manhattan.csv\")\n",
    "\n",
    "df.head()"
   ]
  },
  {
   "cell_type": "markdown",
   "id": "59d83ef9",
   "metadata": {},
   "source": [
    "## Getting Independent Features And Target"
   ]
  },
  {
   "cell_type": "code",
   "execution_count": null,
   "id": "ca76ad0d",
   "metadata": {},
   "outputs": [],
   "source": [
    "\n",
    "x = df[['bedrooms', 'bathrooms', 'size_sqft', 'min_to_subway', 'floor', 'building_age_yrs', 'no_fee', 'has_roofdeck', 'has_washer_dryer', 'has_doorman', 'has_elevator', 'has_dishwasher', 'has_patio', 'has_gym']]\n",
    "y= df.rent\n",
    "\n",
    "## Getting correlation between independent features and Target\n",
    "for i in x:\n",
    "   corr= np.corrcoef(df[i],df['rent'])\n",
    "   print(corr)\n"
   ]
  },
  {
   "cell_type": "markdown",
   "id": "e7981f89",
   "metadata": {},
   "source": [
    "## Correlation Matrix"
   ]
  },
  {
   "cell_type": "code",
   "execution_count": null,
   "id": "a5a64756",
   "metadata": {},
   "outputs": [],
   "source": [
    "corr_matrix = x.select_dtypes('number').corr()\n",
    "plt.figure(figsize=(corr_matrix.shape[0], corr_matrix.shape[1]))\n",
    "sns.heatmap(corr_matrix, annot=True)"
   ]
  },
  {
   "cell_type": "markdown",
   "id": "85dcc918",
   "metadata": {},
   "source": [
    "## Removing Highly correlated independent features \n",
    "**based on the heatmap we can see bedrooms and size_sqft are highly correlated to avoid **Multicollinearity* i will take out **bedrooms* and leave **size_sqft**"
   ]
  },
  {
   "cell_type": "code",
   "execution_count": null,
   "id": "d47c2dd7",
   "metadata": {},
   "outputs": [],
   "source": [
    "## removed **bedrooms**\n",
    "x = df[[ \n",
    "        'bathrooms', \n",
    "        'size_sqft', \n",
    "        'min_to_subway', \n",
    "        'floor', \n",
    "        'building_age_yrs', \n",
    "        'no_fee', \n",
    "        'has_roofdeck', \n",
    "        'has_washer_dryer', \n",
    "        'has_doorman', \n",
    "        'has_elevator', \n",
    "        'has_dishwasher', \n",
    "        'has_patio', \n",
    "        'has_gym']]"
   ]
  },
  {
   "cell_type": "markdown",
   "id": "e28b0af7",
   "metadata": {},
   "source": [
    "## Plotting Dependent Features Against Target Feature"
   ]
  },
  {
   "cell_type": "code",
   "execution_count": null,
   "id": "710795f6",
   "metadata": {},
   "outputs": [],
   "source": [
    "for i in x:\n",
    " plt.scatter(df[i],df['rent'])\n",
    " plt.xlabel(i)\n",
    " plt.ylabel('rent')\n",
    " plt.show()"
   ]
  },
  {
   "cell_type": "markdown",
   "id": "1d910195",
   "metadata": {},
   "source": [
    "## Detecting Outlliers"
   ]
  },
  {
   "cell_type": "code",
   "execution_count": null,
   "id": "b9229862",
   "metadata": {},
   "outputs": [],
   "source": [
    "for i in x:\n",
    " sns.boxplot(df[i])\n",
    " plt.xlabel(i)\n",
    " plt.show()\n"
   ]
  },
  {
   "cell_type": "markdown",
   "id": "0fff8ac3",
   "metadata": {},
   "source": [
    "## Detecting Null Features"
   ]
  },
  {
   "cell_type": "code",
   "execution_count": null,
   "id": "3e3b63f5",
   "metadata": {},
   "outputs": [],
   "source": [
    "sns.heatmap(df.isnull())"
   ]
  },
  {
   "cell_type": "code",
   "execution_count": null,
   "id": "288bade5",
   "metadata": {},
   "outputs": [],
   "source": [
    "df.isnull().sum()"
   ]
  },
  {
   "cell_type": "markdown",
   "id": "e18e9023",
   "metadata": {},
   "source": [
    "## Cross Validation Evaluating For The Best Model "
   ]
  },
  {
   "cell_type": "code",
   "execution_count": null,
   "id": "13ad9355",
   "metadata": {},
   "outputs": [],
   "source": [
    "models = {\n",
    "    # \"Ridge\": Ridge(),\n",
    "    # \"Lasso\": Lasso(),\n",
    "    \"Linear Regression\": LinearRegression(),\n",
    "    # \"Random Forest\": RandomForestRegressor(),\n",
    "    \"SVR\": SVR()\n",
    "}\n",
    "\n",
    "kf=KFold(n_splits=6,shuffle=True,random_state=42)\n",
    "\n",
    "best_score = -np.inf\n",
    "best_model_name = None\n",
    "\n",
    "for name, model in models.items():\n",
    "    scores = cross_val_score(model, x, y, cv=kf)\n",
    "    mean_score = np.mean(scores)\n",
    "    print(f\"{name}: {mean_score:.4f} (±{np.std(scores):.4f})\")\n",
    "    if mean_score > best_score:\n",
    "        best_score = mean_score\n",
    "        best_model_name = name\n",
    "\n",
    "model = models[best_model_name]\n",
    "\n",
    "\n",
    "print(f\"Best model: {model}\") "
   ]
  },
  {
   "cell_type": "markdown",
   "id": "254229f8",
   "metadata": {},
   "source": [
    "## Training Data and Predicting"
   ]
  },
  {
   "cell_type": "code",
   "execution_count": null,
   "id": "42c85174",
   "metadata": {},
   "outputs": [],
   "source": [
    "final_model = model.fit(x, y)\n",
    "\n",
    "new_data = [[\n",
    "    1,      # bathrooms\n",
    "    750,    # size_sqft\n",
    "    5,      # min_to_subway\n",
    "    2,      # floor\n",
    "    10,     # building_age_yrs\n",
    "    1,      # no_fee\n",
    "    0,      # has_roofdeck\n",
    "    1,      # has_washer_dryer\n",
    "    0,      # has_doorman\n",
    "    1,      # has_elevator\n",
    "    1,      # has_dishwasher\n",
    "    0,      # has_patio\n",
    "    1       # has_gym\n",
    "]]\n",
    "\n",
    "predicted_rent = final_model.predict(new_data)\n",
    "print(f\"Predicted rent: ${predicted_rent[0]:.2f}\")"
   ]
  },
  {
   "cell_type": "code",
   "execution_count": null,
   "id": "9fb0b54d",
   "metadata": {},
   "outputs": [],
   "source": [
    "for i in x:\n",
    "    plt.scatter(df[i], y, label='Actual')\n",
    "\n",
    "    X_line = x.copy()\n",
    "    for col in x.columns:\n",
    "        if col != i:\n",
    "            X_line[col] = X_line[col].mean()\n",
    "    y_pred_line = final_model.predict(X_line)\n",
    "\n",
    "    plt.plot(df[i], y_pred_line, color='red', label='Regression line')\n",
    "    plt.xlabel(i)\n",
    "    plt.ylabel('rent')\n",
    "    plt.title(f'{i} vs Rent')\n",
    "    plt.legend()\n",
    "    plt.show()"
   ]
  }
 ],
 "metadata": {
  "kernelspec": {
   "display_name": "deeplearning",
   "language": "python",
   "name": "python3"
  },
  "language_info": {
   "codemirror_mode": {
    "name": "ipython",
    "version": 3
   },
   "file_extension": ".py",
   "mimetype": "text/x-python",
   "name": "python",
   "nbconvert_exporter": "python",
   "pygments_lexer": "ipython3",
   "version": "3.12.9"
  }
 },
 "nbformat": 4,
 "nbformat_minor": 5
}
